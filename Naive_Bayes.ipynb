{
 "cells": [
  {
   "cell_type": "code",
   "execution_count": 1,
   "metadata": {
    "collapsed": true
   },
   "outputs": [],
   "source": [
    "import numpy as np\n",
    "import pandas as pd\n",
    "import math"
   ]
  },
  {
   "cell_type": "code",
   "execution_count": 2,
   "metadata": {
    "collapsed": true
   },
   "outputs": [],
   "source": [
    "class Naive_Bayes():\n",
    "    \"\"\" Guassian Naive Bayes Classifier \"\"\"\n",
    "    \n",
    "    def __init__(self):\n",
    "        self.classes = None\n",
    "        self.parameters = {}\n",
    "        self.y = None\n",
    "        self.cols = None\n",
    "    \n",
    "    def fit(self, x, y):\n",
    "        \"\"\" \n",
    "        Estimate mean and var of each feature for each class \n",
    "        Save them in self.parameters\n",
    "        \"\"\"\n",
    "        if len(x) != len(y):\n",
    "            print (\"Mismatch between x and y\")\n",
    "            exit()\n",
    "        \n",
    "        self.cols = x.columns\n",
    "        self.y = y\n",
    "        self.classes = np.unique(y)\n",
    "        for i, c in enumerate(self.classes):\n",
    "            x_c = x.loc[np.where(y == c)]\n",
    "            self.parameters[c] = {}\n",
    "            for col in x_c.columns:\n",
    "                self.parameters[c][col] = (x_c[col].mean(), x_c[col].var())\n",
    "                \n",
    "    def calculate_prior(self, y, c):\n",
    "        \"\"\"\n",
    "        Estimate prior probability of each class\n",
    "        \"\"\"\n",
    "        return np.mean(y == c)\n",
    "    \n",
    "    def gaussian_prob(self, val, mean, var):\n",
    "        \"\"\"\n",
    "        Give a value, return its Gaussian probability\n",
    "        \"\"\"\n",
    "        prefix = 1.0 / np.sqrt(2.0 * math.pi * var)\n",
    "        bracket = - (val - mean) ** 2 / 2.0 / var\n",
    "        return prefix * np.exp(bracket)\n",
    "    \n",
    "    def calculate_joint(self, c, test):\n",
    "        \"\"\"\n",
    "        Estimate joint probability \n",
    "        \"\"\"\n",
    "        joint = self.calculate_prior(self.y, c)\n",
    "        for col, val in zip(self.cols, test):\n",
    "            mean, var = self.parameters[c][col]\n",
    "            joint *= self.gaussian_prob(val, mean, var)\n",
    "        return joint\n",
    "    \n",
    "    def predict(self, test):\n",
    "        proba = []\n",
    "        res = []\n",
    "        for c in self.classes:\n",
    "            posterior = self.calculate_joint(c, test)\n",
    "            res.append(posterior)\n",
    "            \n",
    "        return self.classes[np.argmax(res)]  "
   ]
  },
  {
   "cell_type": "code",
   "execution_count": 3,
   "metadata": {
    "collapsed": true
   },
   "outputs": [],
   "source": [
    "x_train = pd.DataFrame({'A' : [1, 1, 2, 2, 10, 7, 9],\n",
    "                        'B' : [1, 2, 1, 2, 9, 10, 8]})\n",
    "y_train = [0, 0, 0, 0, 1, 1, 1]\n",
    "x_test = [8, 8]"
   ]
  },
  {
   "cell_type": "code",
   "execution_count": 4,
   "metadata": {},
   "outputs": [
    {
     "data": {
      "text/plain": [
       "1"
      ]
     },
     "execution_count": 4,
     "metadata": {},
     "output_type": "execute_result"
    }
   ],
   "source": [
    "nb = Naive_Bayes()\n",
    "nb.fit(x_train, y_train)\n",
    "nb.predict(x_test)"
   ]
  },
  {
   "cell_type": "code",
   "execution_count": null,
   "metadata": {
    "collapsed": true
   },
   "outputs": [],
   "source": []
  },
  {
   "cell_type": "code",
   "execution_count": null,
   "metadata": {
    "collapsed": true
   },
   "outputs": [],
   "source": []
  }
 ],
 "metadata": {
  "kernelspec": {
   "display_name": "Python 3",
   "language": "python",
   "name": "python3"
  },
  "language_info": {
   "codemirror_mode": {
    "name": "ipython",
    "version": 3
   },
   "file_extension": ".py",
   "mimetype": "text/x-python",
   "name": "python",
   "nbconvert_exporter": "python",
   "pygments_lexer": "ipython3",
   "version": "3.6.3"
  }
 },
 "nbformat": 4,
 "nbformat_minor": 2
}
